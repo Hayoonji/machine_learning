{
 "cells": [
  {
   "cell_type": "markdown",
   "id": "a41d8ca3",
   "metadata": {},
   "source": [
    "# 데이터 인코딩"
   ]
  },
  {
   "cell_type": "markdown",
   "id": "703fec41",
   "metadata": {},
   "source": [
    "- 머신러닝 알고리즘은 문자열 데이터 속성 입력X\n",
    "- 모든 데이터는 숫자형으로 표현\n",
    "- 문자/카테고리형 속성은 모두 숫자형으로 인코딩 되어야 함"
   ]
  },
  {
   "cell_type": "markdown",
   "id": "3f7eeeff",
   "metadata": {},
   "source": [
    "## 레이블 인코딩"
   ]
  },
  {
   "cell_type": "markdown",
   "id": "6bc6857b",
   "metadata": {},
   "source": [
    "- ex. TV:0, 냉장고:1, 전자렌지:4 등등\n",
    "- 이렇게 숫자 값으로 변환할때 어떤 알고리즘은 숫자에 영향받을 수 있음(해결:원핫인코딩)"
   ]
  },
  {
   "cell_type": "code",
   "execution_count": 4,
   "id": "b68549ea",
   "metadata": {},
   "outputs": [
    {
     "name": "stdout",
     "output_type": "stream",
     "text": [
      "인코딩 변환값: [0 1 4 5 3 3 2 2]\n"
     ]
    }
   ],
   "source": [
    "from sklearn.preprocessing import LabelEncoder\n",
    "\n",
    "items=['TV','냉장고','전자렌지','컴퓨터','선풍기','선풍기','믹서','믹서']\n",
    "\n",
    "#LabelEncoder를 객체로 생성한 후, fit()과 transform()으로 label인코딩 수행\n",
    "encoder=LabelEncoder() #LabelEncoder는 1차원 학습해도 상관X\n",
    "encoder.fit(items)#fit하는 이유: 변환할때도 fit함(학습도 하지만)/데이터전처리 모듈들도 fit가짐\n",
    "labels=encoder.transform(items)\n",
    "\n",
    "print('인코딩 변환값:',labels)"
   ]
  },
  {
   "cell_type": "code",
   "execution_count": 5,
   "id": "10c02529",
   "metadata": {},
   "outputs": [
    {
     "data": {
      "text/plain": [
       "array([0, 1, 4, 5, 3, 3, 2, 2], dtype=int64)"
      ]
     },
     "execution_count": 5,
     "metadata": {},
     "output_type": "execute_result"
    }
   ],
   "source": [
    "#fit과 transform 한번에 하기\n",
    "labels=encoder.fit_transform(items)\n",
    "labels"
   ]
  },
  {
   "cell_type": "code",
   "execution_count": 6,
   "id": "112d0f3b",
   "metadata": {},
   "outputs": [
    {
     "name": "stdout",
     "output_type": "stream",
     "text": [
      "인코딩 클래스: ['TV' '냉장고' '믹서' '선풍기' '전자렌지' '컴퓨터']\n"
     ]
    }
   ],
   "source": [
    "#원본에 어떤게 있는지 알 수 있음\n",
    "print('인코딩 클래스:',encoder.classes_)"
   ]
  },
  {
   "cell_type": "code",
   "execution_count": 7,
   "id": "34f7fe02",
   "metadata": {},
   "outputs": [
    {
     "name": "stdout",
     "output_type": "stream",
     "text": [
      "디코딩 원본값: ['전자렌지' '컴퓨터' '믹서' 'TV' '냉장고' '냉장고' '선풍기' '선풍기']\n"
     ]
    }
   ],
   "source": [
    "#디코딩 원본값(원래 값으로 바꿔보기)\n",
    "print('디코딩 원본값:',encoder.inverse_transform([4, 5, 2, 0, 1, 1, 3, 3]))"
   ]
  },
  {
   "cell_type": "markdown",
   "id": "b4d5ee21",
   "metadata": {},
   "source": [
    "## 원-핫 인코딩"
   ]
  },
  {
   "cell_type": "markdown",
   "id": "6762d5f0",
   "metadata": {},
   "source": [
    "- 더미변수화 하는것"
   ]
  },
  {
   "cell_type": "markdown",
   "id": "bacb1da8",
   "metadata": {},
   "source": [
    "### array, fit, transform 사용"
   ]
  },
  {
   "cell_type": "code",
   "execution_count": 16,
   "id": "bcb38c51",
   "metadata": {},
   "outputs": [
    {
     "name": "stdout",
     "output_type": "stream",
     "text": [
      "원-핫 인코딩 데이터\n",
      "[[1. 0. 0. 0. 0. 0.]\n",
      " [0. 1. 0. 0. 0. 0.]\n",
      " [0. 0. 0. 0. 1. 0.]\n",
      " [0. 0. 0. 0. 0. 1.]\n",
      " [0. 0. 0. 1. 0. 0.]\n",
      " [0. 0. 0. 1. 0. 0.]\n",
      " [0. 0. 1. 0. 0. 0.]\n",
      " [0. 0. 1. 0. 0. 0.]]\n",
      "원-핫 인코딩 데이터 차원\n",
      "(8, 6)\n"
     ]
    }
   ],
   "source": [
    "from sklearn.preprocessing import OneHotEncoder\n",
    "import numpy as np\n",
    "\n",
    "items=['TV','냉장고','전자렌지','컴퓨터','선풍기','선풍기','믹서','믹서']\n",
    "\n",
    "# 1. 2차원 ndarray로 변환(필수)\n",
    "items=np.array(items).reshape(-1,1)\n",
    "\n",
    "# 2. 원-핫 인코딩 적용\n",
    "oh_encoder=OneHotEncoder()\n",
    "oh_encoder.fit(items)\n",
    "oh_labels=oh_encoder.transform(items)\n",
    "\n",
    "# 3. toarray() 이용하여 Dense Matrix로 변환\n",
    "#OneHotEncoder로 변환한 결과는 희소행렬(<8x6 sparse matrix of type '<class 'numpy.float64'>'이렇게뜸)\n",
    "   #이므로 toarray()이용하여 밀집행렬로 변환\n",
    "print('원-핫 인코딩 데이터')\n",
    "print(oh_labels.toarray())\n",
    "print('원-핫 인코딩 데이터 차원')\n",
    "print(oh_labels.shape)"
   ]
  },
  {
   "cell_type": "markdown",
   "id": "aaf6b0c1",
   "metadata": {},
   "source": [
    "### get_dummies 사용"
   ]
  },
  {
   "cell_type": "markdown",
   "id": "c835f4e1",
   "metadata": {},
   "source": [
    "- 위 과정을 짧게 하는 방법"
   ]
  },
  {
   "cell_type": "code",
   "execution_count": 18,
   "id": "d7e3a70a",
   "metadata": {},
   "outputs": [
    {
     "data": {
      "text/html": [
       "<div>\n",
       "<style scoped>\n",
       "    .dataframe tbody tr th:only-of-type {\n",
       "        vertical-align: middle;\n",
       "    }\n",
       "\n",
       "    .dataframe tbody tr th {\n",
       "        vertical-align: top;\n",
       "    }\n",
       "\n",
       "    .dataframe thead th {\n",
       "        text-align: right;\n",
       "    }\n",
       "</style>\n",
       "<table border=\"1\" class=\"dataframe\">\n",
       "  <thead>\n",
       "    <tr style=\"text-align: right;\">\n",
       "      <th></th>\n",
       "      <th>item_TV</th>\n",
       "      <th>item_냉장고</th>\n",
       "      <th>item_믹서</th>\n",
       "      <th>item_선풍기</th>\n",
       "      <th>item_전자렌지</th>\n",
       "      <th>item_컴퓨터</th>\n",
       "    </tr>\n",
       "  </thead>\n",
       "  <tbody>\n",
       "    <tr>\n",
       "      <th>0</th>\n",
       "      <td>1</td>\n",
       "      <td>0</td>\n",
       "      <td>0</td>\n",
       "      <td>0</td>\n",
       "      <td>0</td>\n",
       "      <td>0</td>\n",
       "    </tr>\n",
       "    <tr>\n",
       "      <th>1</th>\n",
       "      <td>0</td>\n",
       "      <td>1</td>\n",
       "      <td>0</td>\n",
       "      <td>0</td>\n",
       "      <td>0</td>\n",
       "      <td>0</td>\n",
       "    </tr>\n",
       "    <tr>\n",
       "      <th>2</th>\n",
       "      <td>0</td>\n",
       "      <td>0</td>\n",
       "      <td>0</td>\n",
       "      <td>0</td>\n",
       "      <td>1</td>\n",
       "      <td>0</td>\n",
       "    </tr>\n",
       "    <tr>\n",
       "      <th>3</th>\n",
       "      <td>0</td>\n",
       "      <td>0</td>\n",
       "      <td>0</td>\n",
       "      <td>0</td>\n",
       "      <td>0</td>\n",
       "      <td>1</td>\n",
       "    </tr>\n",
       "    <tr>\n",
       "      <th>4</th>\n",
       "      <td>0</td>\n",
       "      <td>0</td>\n",
       "      <td>0</td>\n",
       "      <td>1</td>\n",
       "      <td>0</td>\n",
       "      <td>0</td>\n",
       "    </tr>\n",
       "    <tr>\n",
       "      <th>5</th>\n",
       "      <td>0</td>\n",
       "      <td>0</td>\n",
       "      <td>0</td>\n",
       "      <td>1</td>\n",
       "      <td>0</td>\n",
       "      <td>0</td>\n",
       "    </tr>\n",
       "    <tr>\n",
       "      <th>6</th>\n",
       "      <td>0</td>\n",
       "      <td>0</td>\n",
       "      <td>1</td>\n",
       "      <td>0</td>\n",
       "      <td>0</td>\n",
       "      <td>0</td>\n",
       "    </tr>\n",
       "    <tr>\n",
       "      <th>7</th>\n",
       "      <td>0</td>\n",
       "      <td>0</td>\n",
       "      <td>1</td>\n",
       "      <td>0</td>\n",
       "      <td>0</td>\n",
       "      <td>0</td>\n",
       "    </tr>\n",
       "  </tbody>\n",
       "</table>\n",
       "</div>"
      ],
      "text/plain": [
       "   item_TV  item_냉장고  item_믹서  item_선풍기  item_전자렌지  item_컴퓨터\n",
       "0        1         0        0         0          0         0\n",
       "1        0         1        0         0          0         0\n",
       "2        0         0        0         0          1         0\n",
       "3        0         0        0         0          0         1\n",
       "4        0         0        0         1          0         0\n",
       "5        0         0        0         1          0         0\n",
       "6        0         0        1         0          0         0\n",
       "7        0         0        1         0          0         0"
      ]
     },
     "execution_count": 18,
     "metadata": {},
     "output_type": "execute_result"
    }
   ],
   "source": [
    "import pandas as pd\n",
    "\n",
    "df=pd.DataFrame({'item':['TV','냉장고','전자렌지','컴퓨터','선풍기','선풍기','믹서','믹서']})\n",
    "pd.get_dummies(df)"
   ]
  },
  {
   "cell_type": "markdown",
   "id": "0e618a17",
   "metadata": {},
   "source": [
    "# feature(독립변수) 스케일링과 정규화"
   ]
  },
  {
   "cell_type": "markdown",
   "id": "8e76942f",
   "metadata": {},
   "source": [
    "- 서로 다른 척도를 공통된 척도로 통일시켜주는 것\n",
    "- 표준화(Standardization):데이터의 독립변수 각각이 평균이 0이고, 분산이 1인 가우시안 정규분포를 가진 \"값\"으로 변환\n",
    "- 정규화(Normalization):서로 다른 독립변수 크기를 통일하기 위해 \"크기\"변환(0~1사이값)\n",
    "\n",
    "- 로지스틱 회귀, svm같은 선형계열은 스케일링 해주는게 좋음(안했을때 영향O)\n",
    "- tree는 스케일링 안해줘도 됨"
   ]
  },
  {
   "cell_type": "markdown",
   "id": "1d755ef7",
   "metadata": {},
   "source": [
    "## StandardScaler"
   ]
  },
  {
   "cell_type": "markdown",
   "id": "e4b5d36e",
   "metadata": {},
   "source": [
    "- 평균이 0이고 분산이 1인 정규분포 형태로 변환"
   ]
  },
  {
   "cell_type": "code",
   "execution_count": 21,
   "id": "e4f6e782",
   "metadata": {},
   "outputs": [
    {
     "name": "stdout",
     "output_type": "stream",
     "text": [
      "feature 들의 평균 값\n",
      "sepal length (cm)    5.843333\n",
      "sepal width (cm)     3.057333\n",
      "petal length (cm)    3.758000\n",
      "petal width (cm)     1.199333\n",
      "dtype: float64\n",
      "\n",
      "feature 들의 분산 값\n",
      "sepal length (cm)    0.685694\n",
      "sepal width (cm)     0.189979\n",
      "petal length (cm)    3.116278\n",
      "petal width (cm)     0.581006\n",
      "dtype: float64\n"
     ]
    }
   ],
   "source": [
    "from sklearn.datasets import load_iris\n",
    "import pandas as pd\n",
    "# 1. 붓꽃데이터 셋을 로딩하고 DataFrame으로 변환\n",
    "iris=load_iris()\n",
    "iris_data=iris.data\n",
    "iris_df=pd.DataFrame(data=iris_data,columns=iris.feature_names)\n",
    "\n",
    "print('feature 들의 평균 값')\n",
    "print(iris_df.mean())\n",
    "print('\\nfeature 들의 분산 값')\n",
    "print(iris_df.var())"
   ]
  },
  {
   "cell_type": "code",
   "execution_count": 24,
   "id": "27f06660",
   "metadata": {},
   "outputs": [
    {
     "name": "stdout",
     "output_type": "stream",
     "text": [
      "feature 들의 평균 값\n",
      "sepal length (cm)   -1.690315e-15\n",
      "sepal width (cm)    -1.842970e-15\n",
      "petal length (cm)   -1.698641e-15\n",
      "petal width (cm)    -1.409243e-15\n",
      "dtype: float64\n",
      "\n",
      "feature 들의 분산 값\n",
      "sepal length (cm)    1.006711\n",
      "sepal width (cm)     1.006711\n",
      "petal length (cm)    1.006711\n",
      "petal width (cm)     1.006711\n",
      "dtype: float64\n"
     ]
    }
   ],
   "source": [
    "# 2. 스케일링 하기\n",
    "from sklearn.preprocessing import StandardScaler\n",
    "\n",
    "#1) StandardScaler 객체 생성\n",
    "scaler=StandardScaler()\n",
    "#2) StandardScaler로 데이터 셋 변환, fit()과 transform() 호출\n",
    "scaler.fit(iris_df)#fit에서 각 값들에 대한 평균, 표준편차 계산\n",
    "iris_scaled=scaler.transform(iris_df) #앞서 계산된 값으로 전체 feature들에 대해서 다 변환\n",
    "\n",
    "#3) DataFrame으로 변환\n",
    "#transform()시, scale변환된 데이터 셋이 numpy ndarray로 반환되어 데이터프레임으로 바꿔줘야됨\n",
    "iris_df_scaled=pd.DataFrame(data=iris_scaled,columns=iris.feature_names)\n",
    "print('feature 들의 평균 값')\n",
    "print(iris_df_scaled.mean())\n",
    "print('\\nfeature 들의 분산 값')\n",
    "print(iris_df_scaled.var())"
   ]
  },
  {
   "cell_type": "markdown",
   "id": "2dfb7d2c",
   "metadata": {},
   "source": [
    "## MinMaxScaler"
   ]
  },
  {
   "cell_type": "markdown",
   "id": "1893c66f",
   "metadata": {},
   "source": [
    "- 데이터 값을 0과 1 사이 범위값으로 변환(음수 값이 있으면 -1에서 1값으로 변환)"
   ]
  },
  {
   "cell_type": "code",
   "execution_count": 26,
   "id": "aafcf2bc",
   "metadata": {},
   "outputs": [
    {
     "name": "stdout",
     "output_type": "stream",
     "text": [
      "feature 들의 최소 값\n",
      "sepal length (cm)    0.0\n",
      "sepal width (cm)     0.0\n",
      "petal length (cm)    0.0\n",
      "petal width (cm)     0.0\n",
      "dtype: float64\n",
      "\n",
      "feature 들의 최대 값\n",
      "sepal length (cm)    1.0\n",
      "sepal width (cm)     1.0\n",
      "petal length (cm)    1.0\n",
      "petal width (cm)     1.0\n",
      "dtype: float64\n"
     ]
    }
   ],
   "source": [
    "from sklearn.preprocessing import MinMaxScaler\n",
    "\n",
    "# 2. 정규화 하기\n",
    "#1) MinMaxScaler 객체 생성\n",
    "scaler=MinMaxScaler() #최소 0, 최대 1\n",
    "\n",
    "#2) MinMaxScaler로 데이터 셋 변환, fit()과 transform() 호출\n",
    "scaler.fit(iris_df)\n",
    "iris_scaled=scaler.transform(iris_df)\n",
    "\n",
    "#3) DataFrame으로 변환\n",
    "#transform()시, scale변환된 데이터 셋이 numpy ndarray로 반환되어 데이터프레임으로 바꿔줘야됨\n",
    "iris_df_scaled=pd.DataFrame(data=iris_scaled,columns=iris.feature_names)\n",
    "print('feature 들의 최소 값')\n",
    "print(iris_df_scaled.min())\n",
    "print('\\nfeature 들의 최대 값')\n",
    "print(iris_df_scaled.max())"
   ]
  },
  {
   "cell_type": "markdown",
   "id": "8c03de45",
   "metadata": {},
   "source": [
    "## Scaler이용시 유의사항"
   ]
  },
  {
   "cell_type": "markdown",
   "id": "0295aea2",
   "metadata": {},
   "source": [
    "- 학습, 테스트 데이터에 fit(), transform(), fit_transform() 적용시 유의사항"
   ]
  },
  {
   "cell_type": "code",
   "execution_count": 28,
   "id": "a5f5b2ae",
   "metadata": {},
   "outputs": [],
   "source": [
    "from sklearn.preprocessing import MinMaxScaler\n",
    "import numpy as np\n",
    "\n",
    "# <예시>\n",
    "# 1. 학습 데이터는 0~10까지, 테스트는 0~5까지 값 가지는 데이터 세트로 생성\n",
    "#Scaler클래스의 fit(), transform()은 2차원 이상 데이터만 가능-> reshape(-1,1)로 변환\n",
    "train_array=np.arange(0,11).reshape(-1,1)\n",
    "test_array=np.arange(0,6).reshape(-1,1)"
   ]
  },
  {
   "cell_type": "code",
   "execution_count": 29,
   "id": "41fab493",
   "metadata": {},
   "outputs": [
    {
     "name": "stdout",
     "output_type": "stream",
     "text": [
      "원본 train_array 데이터: [ 0  1  2  3  4  5  6  7  8  9 10]\n",
      "Scale된 train_array 데이터: [0.  0.1 0.2 0.3 0.4 0.5 0.6 0.7 0.8 0.9 1. ]\n"
     ]
    }
   ],
   "source": [
    "#<train데이터 학습>\n",
    "# 2. 최소값 0, 최대값 1로 변환하는 MinMaxScaler 객체생성\n",
    "scaler=MinMaxScaler()\n",
    "# 3. fit()하게 되면 train_array 데이터의 최소값이 0, 최대값이 10으로 설정\n",
    "scaler.fit(train_array)\n",
    "# 4. 1/10 scale로 train_array 데이터 변환. 원본 10->1로 변환\n",
    "train_scaled=scaler.transform(train_array)\n",
    "\n",
    "print('원본 train_array 데이터:', np.round(train_array.reshape(-1), 2))\n",
    "print('Scale된 train_array 데이터:', np.round(train_scaled.reshape(-1), 2))"
   ]
  },
  {
   "cell_type": "code",
   "execution_count": 30,
   "id": "f6aeb799",
   "metadata": {},
   "outputs": [
    {
     "name": "stdout",
     "output_type": "stream",
     "text": [
      "원본 test_array 데이터: [0 1 2 3 4 5]\n",
      "Scale된 test_array 데이터: [0.  0.2 0.4 0.6 0.8 1. ]\n"
     ]
    }
   ],
   "source": [
    "#<test데이터 검증>\n",
    "# 1. fit()하기\n",
    "#앞서 생성한 MinMaxScaler에 test_array를 fit()하게 되면 원본 데이터의 최소값이 0, 최대값 5설정\n",
    "scaler.fit(test_array)\n",
    "# 2. transform 변환\n",
    "# 1/5 scale로 test_array데이터 변환, 원본 5->1로 변환\n",
    "test_scaled=scaler.transform(test_array)\n",
    "\n",
    "# test_array 변환 출력\n",
    "print('원본 test_array 데이터:', np.round(test_array.reshape(-1), 2))\n",
    "print('Scale된 test_array 데이터:', np.round(test_scaled.reshape(-1), 2))\n",
    "\n",
    "#**문제점**\n",
    "# : 학습할때의 척도와 예측할 때의 척도가 다름\n",
    "# (위에서 학습할때는 9면 0.9, 5면 0.5 였는데, 예측할때 5가 1.0 이됨"
   ]
  },
  {
   "cell_type": "code",
   "execution_count": 31,
   "id": "877645cd",
   "metadata": {},
   "outputs": [
    {
     "name": "stdout",
     "output_type": "stream",
     "text": [
      "원본 train_array 데이터: [ 0  1  2  3  4  5  6  7  8  9 10]\n",
      "Scale된 train_array 데이터: [0.  0.1 0.2 0.3 0.4 0.5 0.6 0.7 0.8 0.9 1. ]\n",
      "\n",
      "원본 test_array 데이터: [0 1 2 3 4 5]\n",
      "Scale된 test_array 데이터: [0.  0.1 0.2 0.3 0.4 0.5]\n"
     ]
    }
   ],
   "source": [
    "scaler = MinMaxScaler()\n",
    "scaler.fit(train_array)\n",
    "train_scaled = scaler.transform(train_array)\n",
    "print('원본 train_array 데이터:', np.round(train_array.reshape(-1), 2))\n",
    "print('Scale된 train_array 데이터:', np.round(train_scaled.reshape(-1), 2))\n",
    "\n",
    "#**해결책**\n",
    "# : test_array에 scale변환할때 반드시 \"fit()호출하지 않고, transform()만\"으로 변환\n",
    "test_scaled=scaler.transform(test_array)\n",
    "print('\\n원본 test_array 데이터:', np.round(test_array.reshape(-1), 2))\n",
    "print('Scale된 test_array 데이터:', np.round(test_scaled.reshape(-1), 2))\n",
    "\n",
    "#해결법 정리\n",
    "# : fit을 2번하면 안됨, 맨 처음에 fit한 걸 가지고 다시 transform한 것\n",
    "# (fit을 다시 하면, test_array가지고 다시 최대 최소 구하겠단 의미)\n",
    "# 결론: 학습데이터의 척도를 따라가야 됨"
   ]
  },
  {
   "cell_type": "code",
   "execution_count": null,
   "id": "46be85fb",
   "metadata": {},
   "outputs": [],
   "source": []
  }
 ],
 "metadata": {
  "kernelspec": {
   "display_name": "Python 3 (ipykernel)",
   "language": "python",
   "name": "python3"
  },
  "language_info": {
   "codemirror_mode": {
    "name": "ipython",
    "version": 3
   },
   "file_extension": ".py",
   "mimetype": "text/x-python",
   "name": "python",
   "nbconvert_exporter": "python",
   "pygments_lexer": "ipython3",
   "version": "3.9.12"
  },
  "toc": {
   "base_numbering": 1,
   "nav_menu": {},
   "number_sections": true,
   "sideBar": true,
   "skip_h1_title": false,
   "title_cell": "Table of Contents",
   "title_sidebar": "Contents",
   "toc_cell": false,
   "toc_position": {},
   "toc_section_display": true,
   "toc_window_display": false
  }
 },
 "nbformat": 4,
 "nbformat_minor": 5
}
